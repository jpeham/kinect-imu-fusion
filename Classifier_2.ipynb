{
 "cells": [
  {
   "cell_type": "code",
   "execution_count": 1,
   "metadata": {},
   "outputs": [],
   "source": [
    "import Preprocessor"
   ]
  },
  {
   "cell_type": "code",
   "execution_count": 3,
   "metadata": {},
   "outputs": [
    {
     "name": "stdout",
     "output_type": "stream",
     "text": [
      "preprocessor started\n",
      "session 0 ..................... created\n",
      "session 1 ..................... created\n",
      "session 2 ..................... created\n",
      "session 3 ..................... created\n",
      "session 4 ..................... created\n",
      "session 5 ..................... created\n",
      "session 6 ..................... created\n",
      "session 7 ..................... created\n",
      "session 8 ..................... created\n",
      "bringing slots to same length |.....................|.....................|.....................|.....................|.....................|.....................|.....................|.....................|..................... - done\n",
      "dist not in data_list -> rausschmeißen\n",
      "gyro not in data_list -> rausschmeißen\n",
      "preparation done\n"
     ]
    }
   ],
   "source": [
    "path_list1 = ['sample-20190301-205336', 'sample-20190301-211915', 'sample-20190301-221744', \\\n",
    "             'sample-20190301-222413', 'sample-20190301-223155', 'sample-20190301-223845']\n",
    "data_list1 = ['pos', 'acc']\n",
    "prep1 = Preprocessor.Preprocessor(path_list1, data_list1)"
   ]
  },
  {
   "cell_type": "code",
   "execution_count": 5,
   "metadata": {},
   "outputs": [],
   "source": [
    "samples1 = prep1.sessions_list\n",
    "targets1 = prep1.targets_list"
   ]
  },
  {
   "cell_type": "code",
   "execution_count": 6,
   "metadata": {},
   "outputs": [
    {
     "data": {
      "text/plain": [
       "(list, list)"
      ]
     },
     "execution_count": 6,
     "metadata": {},
     "output_type": "execute_result"
    }
   ],
   "source": [
    "type(samples1), type(targets1)"
   ]
  },
  {
   "cell_type": "code",
   "execution_count": 7,
   "metadata": {},
   "outputs": [],
   "source": [
    "from sklearn.discriminant_analysis import LinearDiscriminantAnalysis\n",
    "from sklearn.preprocessing import StandardScaler"
   ]
  },
  {
   "cell_type": "code",
   "execution_count": 8,
   "metadata": {},
   "outputs": [],
   "source": [
    "steps = [('scaler', StandardScaler()), ('clf', LinearDiscriminantAnalysis())]"
   ]
  },
  {
   "cell_type": "code",
   "execution_count": 9,
   "metadata": {},
   "outputs": [],
   "source": [
    "import sklearn as sk \n",
    "from sklearn.pipeline import Pipeline\n",
    "pipeline = Pipeline(steps) # define the pipeline object."
   ]
  },
  {
   "cell_type": "code",
   "execution_count": 12,
   "metadata": {},
   "outputs": [],
   "source": [
    "#parameteres = {'SVM__C':[0.001,0.1,10,100,10e5], 'SVM__gamma':[0.1,0.01]}\n",
    "#grid = GridSearchCV(pipeline, param_grid=parameteres, cv=5)\n",
    "#grid.fit(X_train, y_train)\n",
    "#print(\"score = %3.2f\" %(grid.score(X_test,y_test)))\n",
    "#print(grid.best_params_)"
   ]
  },
  {
   "cell_type": "code",
   "execution_count": null,
   "metadata": {},
   "outputs": [],
   "source": [
    "from sklearn.model_selection import LeaveOneOut, cross_val_predict\n",
    "predicted1 = cross_val_predict(pipeline, X_train, y_train, cv=LeaveOneOut())"
   ]
  },
  {
   "cell_type": "code",
   "execution_count": null,
   "metadata": {},
   "outputs": [],
   "source": [
    "from plot_cm import plot_cm # Confusion Matrix from JH"
   ]
  },
  {
   "cell_type": "code",
   "execution_count": null,
   "metadata": {},
   "outputs": [],
   "source": [
    "print('Accuracy = {}'.format(grid.score(X_test,y_test)))\n",
    "plot_cm(y_train, predicted1)"
   ]
  },
  {
   "cell_type": "code",
   "execution_count": null,
   "metadata": {},
   "outputs": [],
   "source": []
  },
  {
   "cell_type": "code",
   "execution_count": null,
   "metadata": {},
   "outputs": [],
   "source": []
  },
  {
   "cell_type": "code",
   "execution_count": null,
   "metadata": {},
   "outputs": [],
   "source": []
  },
  {
   "cell_type": "code",
   "execution_count": null,
   "metadata": {},
   "outputs": [],
   "source": []
  }
 ],
 "metadata": {
  "kernelspec": {
   "display_name": "Python 3",
   "language": "python",
   "name": "python3"
  },
  "language_info": {
   "codemirror_mode": {
    "name": "ipython",
    "version": 3
   },
   "file_extension": ".py",
   "mimetype": "text/x-python",
   "name": "python",
   "nbconvert_exporter": "python",
   "pygments_lexer": "ipython3",
   "version": "3.7.1"
  }
 },
 "nbformat": 4,
 "nbformat_minor": 2
}
